{
 "cells": [
  {
   "cell_type": "markdown",
   "id": "ee6069fe",
   "metadata": {},
   "source": [
    "# OUTLIERS\n",
    "***"
   ]
  },
  {
   "cell_type": "markdown",
   "id": "778e9be9",
   "metadata": {},
   "source": [
    "## Exercise 1\n",
    "Create box plots on a single set of axes for all five experiments in the morley data set."
   ]
  },
  {
   "cell_type": "code",
   "execution_count": 9,
   "id": "00fe1505",
   "metadata": {},
   "outputs": [],
   "source": [
    "# Numerical arrays.\n",
    "import numpy as np\n",
    "\n",
    "# Plotting.\n",
    "import matplotlib.pyplot as plt\n",
    "\n",
    "# Statistics.\n",
    "import pandas as pd"
   ]
  },
  {
   "cell_type": "code",
   "execution_count": 10,
   "id": "c690de9b",
   "metadata": {},
   "outputs": [],
   "source": [
    "# Read in the morley data.\n",
    "data = np.genfromtxt('data/morley.csv', skip_header=1, delimiter=',', deletechars='\"')\n",
    "\n",
    "# Remove the first column.\n",
    "data = data[:,1:]"
   ]
  },
  {
   "cell_type": "code",
   "execution_count": 14,
   "id": "5a137581",
   "metadata": {},
   "outputs": [
    {
     "name": "stdout",
     "output_type": "stream",
     "text": [
      "     Col_1  Col_2  Col_3  Col_4  Col_5\n",
      "0    850.0  960.0  880.0  890.0  890.0\n",
      "1    740.0  940.0  880.0  810.0  840.0\n",
      "2    900.0  960.0  880.0  810.0  780.0\n",
      "3   1070.0  940.0  860.0  820.0  810.0\n",
      "4    930.0  880.0  720.0  800.0  760.0\n",
      "5    850.0  800.0  720.0  770.0  810.0\n",
      "6    950.0  850.0  620.0  760.0  790.0\n",
      "7    980.0  880.0  860.0  740.0  810.0\n",
      "8    980.0  900.0  970.0  750.0  820.0\n",
      "9    880.0  840.0  950.0  760.0  850.0\n",
      "10  1000.0  830.0  880.0  910.0  870.0\n",
      "11   980.0  790.0  910.0  920.0  870.0\n",
      "12   930.0  810.0  850.0  890.0  810.0\n",
      "13   650.0  880.0  870.0  860.0  740.0\n",
      "14   760.0  880.0  840.0  880.0  810.0\n",
      "15   810.0  830.0  840.0  720.0  940.0\n",
      "16  1000.0  800.0  850.0  840.0  950.0\n",
      "17  1000.0  790.0  840.0  850.0  800.0\n",
      "18   960.0  760.0  840.0  850.0  810.0\n",
      "19   960.0  800.0  840.0  780.0  870.0\n"
     ]
    }
   ],
   "source": [
    "# A quick way to get the five experiments in different columns.\n",
    "df = data[:,2].reshape(5, 20).T\n",
    "\n",
    "panda_df = pd.DataFrame(data = df, \n",
    "                        columns = [\"Col_1\", \"Col_2\", \"Col_3\", \"Col_4\", \"Col_5\"])\n",
    "print(panda_df)"
   ]
  },
  {
   "cell_type": "code",
   "execution_count": 28,
   "id": "3ce83565",
   "metadata": {},
   "outputs": [
    {
     "data": {
      "image/png": "[encoded data removed]",
      "text/plain": [
       "<Figure size 720x720 with 1 Axes>"
      ]
     },
     "metadata": {
      "needs_background": "light"
     },
     "output_type": "display_data"
    }
   ],
   "source": [
    "# figure related code from https://stackoverflow.com/questions/31842892/how-to-add-labels-to-a-boxplot-figure-pylab\n",
    "fig = plt.figure(figsize = (10, 10))\n",
    "fig.suptitle('Morley Data Set - Box Plots', fontsize=14, fontweight='bold')\n",
    "\n",
    "ax = fig.add_subplot(111)\n",
    "ax.boxplot(panda_df)\n",
    "\n",
    "plt.axhline(y = 792.458, color = 'r', linestyle = '-', label='Speed') # the speed of light = 299792458m/s\n",
    "ax.set_xlabel('Experiment Number')\n",
    "ax.set_ylabel('Speed of Light (km/s minus 299,000)')\n",
    "\n",
    "plt.show()"
   ]
  },
  {
   "cell_type": "markdown",
   "id": "78cf8ac3",
   "metadata": {},
   "source": [
    "### References: \n",
    "https://pandas.pydata.org/pandas-docs/stable/reference/api/pandas.DataFrame.boxplot.html\n",
    "https://www.geeksforgeeks.org/create-a-pandas-dataframe-from-a-numpy-array-and-specify-the-index-column-and-column-headers/\n",
    "https://commons.wikimedia.org/wiki/File:Michelsonmorley-boxplot.svg"
   ]
  },
  {
   "cell_type": "code",
   "execution_count": null,
   "id": "57add176",
   "metadata": {},
   "outputs": [],
   "source": []
  },
  {
   "cell_type": "markdown",
   "id": "51a55df6",
   "metadata": {},
   "source": [
    "## Exercise 2\n",
    "Create box plots for all of the numercial variables in Fisher's Iris Data Set."
   ]
  },
  {
   "cell_type": "code",
   "execution_count": null,
   "id": "c22050cd",
   "metadata": {},
   "outputs": [],
   "source": []
  },
  {
   "cell_type": "code",
   "execution_count": null,
   "id": "ae3b250b",
   "metadata": {},
   "outputs": [],
   "source": []
  },
  {
   "cell_type": "markdown",
   "id": "812c21de",
   "metadata": {},
   "source": [
    "## Exercise 3\n",
    "Adapt the above code and plots so that the overall plot is inversely propertional and the individual groups are directly proportional."
   ]
  }
 ],
 "metadata": {
  "kernelspec": {
   "display_name": "Python 3 (ipykernel)",
   "language": "python",
   "name": "python3"
  },
  "language_info": {
   "codemirror_mode": {
    "name": "ipython",
    "version": 3
   },
   "file_extension": ".py",
   "mimetype": "text/x-python",
   "name": "python",
   "nbconvert_exporter": "python",
   "pygments_lexer": "ipython3",
   "version": "3.9.12"
  }
 },
 "nbformat": 4,
 "nbformat_minor": 5
}
