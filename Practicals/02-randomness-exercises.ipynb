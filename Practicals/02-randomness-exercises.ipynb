{
 "cells": [
  {
   "cell_type": "markdown",
   "id": "73c073c3",
   "metadata": {},
   "source": [
    "# RANDOMNESS\n",
    "***"
   ]
  },
  {
   "cell_type": "markdown",
   "id": "91615774",
   "metadata": {},
   "source": [
    "## Exercise\n",
    "Tasks for this topic detailed below include:\n",
    "* looking at probability analysis\n",
    "* whether negative integers/fractions are possible in probability calculations \n",
    "* why we have probability parity in a coin toss; and\n",
    "* plotting bar charts/histograms of three distributions\n",
    "\n",
    "### Probability and Binomial Distribution\n",
    "\n",
    "Probability, a branch of mathematics, tells us the probability, or possibility, of an event occurring. Its value always lies between 0 and 1 where 0 indicates an impossible event and 1 indicates a certain event. The formula for the probability of an event is:\n",
    "\n",
    "$$ ProbabilityOfAnEvent(Event) = \\frac {(NumberOfFavorableOutcomes)} {(TotalNumberOfPossibleOutcomes)}$$\n",
    "\n",
    "The binomial distribution is a probability distribution used to calculate the likelihood of a yes or no outcome in a survey or experiment replicated numerous times.  This type of forecasting is crucial for estimating all the possible outcomes of data and the frequency with which it might occur. \n",
    "\n",
    "$$ P(N) = {\\binom{n}{N}}p^{N}(1-p)^{n-N} $$\n",
    "\n",
    "where p is the probability, n is the number of trials and N is the number of successes.\n",
    "\n",
    "Python has a useful binomial function in the Scipy library. The following simple code demonstrates that where success and failure are just as likely, such as a coin toss, the binomial distribution presents as a normal distribution.\n"
   ]
  },
  {
   "cell_type": "code",
   "execution_count": 1,
   "id": "43e7c370",
   "metadata": {},
   "outputs": [
    {
     "data": {
      "image/png": "[encoded data removed]",
      "text/plain": [
       "<Figure size 432x288 with 1 Axes>"
      ]
     },
     "metadata": {
      "needs_background": "light"
     },
     "output_type": "display_data"
    }
   ],
   "source": [
    "from scipy.stats import binom\n",
    "import matplotlib.pyplot as plt\n",
    "\n",
    "# setting the values of n and p\n",
    "\n",
    "n = 10 # number of coin tosses\n",
    "p = 0.5 # probability of getting heads\n",
    "\n",
    "# defining list of r values, r being the success rate\n",
    "r_values = list(range(n + 1))\n",
    "\n",
    "# list of probability mass function values\n",
    "dist = [binom.pmf(r, n, p) for r in r_values]\n",
    "\n",
    "# plotting the graph\n",
    "plt.bar(r_values, dist)\n",
    "plt.title(\"Binomial Distribution n = 10 p = 0.5\")\n",
    "plt.xlabel(\"Number of Successes\")\n",
    "plt.ylabel(\"Probability\")\n",
    "plt.show()"
   ]
  },
  {
   "cell_type": "markdown",
   "id": "de64a866",
   "metadata": {},
   "source": [
    "Using numpy flip ten coins, tracking each time it gets four heads"
   ]
  },
  {
   "cell_type": "code",
   "execution_count": 2,
   "id": "254373fe",
   "metadata": {},
   "outputs": [
    {
     "name": "stdout",
     "output_type": "stream",
     "text": [
      "[1 0 0 0 0 1 1 0 1 0]\n",
      "[0 0 0 1 0 1 0 1 1 0]\n",
      "[0 1 0 0 0 1 0 0 1 1]\n",
      "[1 1 1 0 0 0 1 0 0 0]\n",
      "Total generated: 22\n"
     ]
    }
   ],
   "source": [
    "import numpy as np\n",
    "\n",
    "# Keep flipping coins until we get four examples of getting four heads in ten coin tosses.\n",
    "# Number of examples.\n",
    "N = 4\n",
    "\n",
    "# Keep track of number of arrays generated.\n",
    "total_no = 0\n",
    "\n",
    "# Keep trying until we get four examples.\n",
    "while N > 0:\n",
    "    # Add 1 to total.\n",
    "    total_no = total_no + 1\n",
    "    # Toss 10 coins.\n",
    "    tosses = np.random.binomial(1, 0.5, 10)\n",
    "    # Check if we got four heads.\n",
    "    if tosses.sum() == 4:\n",
    "        # If we got 4 heads, print the list of heads/tails.\n",
    "        print(tosses)\n",
    "        # Reduce the number of examples left to find by 1.\n",
    "        N = N - 1\n",
    "\n",
    "print(f'Total generated: {total_no}')"
   ]
  },
  {
   "cell_type": "markdown",
   "id": "1894fecd",
   "metadata": {},
   "source": [
    "***\n",
    "## Exercise\n",
    "If we were to flip a coin ten times such that four out of the ten flips were heads and we wanted to calculate the number of possibilities this presented, the calculation would be:\n",
    "\n",
    "(10 * 9 * 8 * 7) // (4 * 3 * 2 * 1)\n",
    "\n",
    "This gives us 210 possibilities.  But could the result ever be a negative or a fraction?"
   ]
  },
  {
   "cell_type": "markdown",
   "id": "11f18360",
   "metadata": {},
   "source": [
    "### Negative Probabilities\n",
    "\n",
    "As all of the values used in this particular scenario are positive integers, we will not get a negative or fractional result. In fact, in experimental probability it is assumed that none of the values used can or will be negative so there is no way for the result to be negative.  \n",
    "\n",
    "Having said that, negative probabilities do theoretically exist.  Quantum mechanics appears to have shouldered Douglas Adams and \"42\" out of the way as the answer to life, the universe and everything but is slightly less accessible.  One school of thought, posited at differing times by physicists Paul Dirac and later Richard Feynman, argues for the use of negative probabilities to describe certain physical phenomena. Finding workable examples is difficult as negative probabilities deal chiefly with properties that cannot be observed, only hypothesised, but the concept centres around the idea of cancellation.  While the classic interpretation of probabilities deals with events that *have* occurred (or are at least possible/observable), negative probability events can (apparently!) be 'cancelled'.  \n",
    "\n",
    "Another example in the field of quantum physics is the Wigner distribution in phase space, introduced by Eugene Wigner in 1932 to study quantum corrections, which often leads to negative probabilities.  The Wigner distribution function is routinely used in physics nowadays in phase-space quantization. Its negative features often indicate quantum interference. \n",
    "\n",
    "Furthermore, in 2005, Gábor J. Székely, introduced half-coins, which provide simple examples for negative probabilities.  Half-coins have infinitely many sides numbered and the positive even numbers are taken with negative probabilities."
   ]
  },
  {
   "cell_type": "markdown",
   "id": "2386af7c",
   "metadata": {},
   "source": [
    "### Fractional Probabilities\n",
    "\n",
    "I found the following quote on a [website](https://people.math.ethz.ch/~jteichma/probability.html#:~:text=A%20Concrete%20Introduction%20to%20Probability%20(using%20Python)&text=Probability%20...%20is%20thus%20simply,occur%20more%20than%20any%20other.) about probability and python which would appear to sum up the answer to the question of whether a probability can be a fraction.  \n",
    "\n",
    "In 1814, *Pierre-Simon Laplace* wrote:\n",
    "\n",
    "_Probability ... is thus simply a fraction whose numerator is the number of favorable cases and whose denominator is the number of all the cases possible ... when nothing leads us to expect that any one of these cases should occur more than any other._\n",
    "\n",
    "Probability can be expressed in many different ways, including as a fraction."
   ]
  },
  {
   "cell_type": "markdown",
   "id": "80db214b",
   "metadata": {},
   "source": [
    "### References:\n",
    "Background reading https://towardsdatascience.com/how-to-code-a-fair-coin-flip-in-python-d54312f33da9\n",
    "\n",
    "Useful explanatory with formulas https://www.geeksforgeeks.org/coin-toss-probability-formula/#:~:text=For%20each%20coin%20toss%2C%20there,of%20possible%20outcomes%20are%20obtained.&text=So%2C%20there%20is%2012.5%25%20chances,when%203%20coins%20are%20tossed\n",
    "\n",
    "Binomial Distribution worked example with plot https://www.geeksforgeeks.org/python-binomial-distribution/\n",
    "\n",
    "Negative probabilities, Durac, Feynman and Quantum Mechanics https://stats.stackexchange.com/questions/333610/negative-probabilities-layman-explanations\n",
    "\n",
    "Negative probability, Wikipedia, Gabor J. Szekely https://en.wikipedia.org/wiki/Negative_probability\n",
    "\n",
    "Probability as a fraction https://people.math.ethz.ch/~jteichma/probability.html#:~:text=A%20Concrete%20Introduction%20to%20Probability%20(using%20Python)&text=Probability%20...%20is%20thus%20simply,occur%20more%20than%20any%20other.\n",
    "\n",
    "Looking at the idea of a loaded or biased coin https://en.wikipedia.org/wiki/Fair_coin\n",
    "\n",
    "Chances of 4 heads/tails https://www.quora.com/If-four-coins-are-tossed-what-is-the-probability-of-getting-neither-4-heads-nor-4-tails"
   ]
  },
  {
   "cell_type": "markdown",
   "id": "781ea3e2",
   "metadata": {},
   "source": [
    "***\n",
    "## Exercise\n",
    "Plot bar charts or histograms of any three different distributions listed at the following link:\n",
    "\n",
    "https://numpy.org/doc/stable/reference/random/generator.html#distributions"
   ]
  },
  {
   "cell_type": "code",
   "execution_count": null,
   "id": "957aa8a6",
   "metadata": {},
   "outputs": [],
   "source": []
  },
  {
   "cell_type": "markdown",
   "id": "464d07ba",
   "metadata": {},
   "source": [
    "## 1. Bernoulli Distribution\n",
    "\n",
    "Bernoulli distribution is a discrete distribution which is used when we want to model the outcome of a single trial of an event. A random experiment that can only have an outcome of either 1 or 0 is known as a Bernoulli trial. If we want to model the outcome of multiple trials of an event, Binomial distribution is used. The code below shows the likely outcome from a single coin flip which we know has a 50/50 chance of success."
   ]
  },
  {
   "cell_type": "code",
   "execution_count": 3,
   "id": "f795586e",
   "metadata": {},
   "outputs": [
    {
     "data": {
      "image/png": "[encoded data removed]",
      "text/plain": [
       "<Figure size 432x288 with 1 Axes>"
      ]
     },
     "metadata": {
      "needs_background": "light"
     },
     "output_type": "display_data"
    }
   ],
   "source": [
    "# Import the required libraries\n",
    "\n",
    "from scipy.stats import bernoulli\n",
    "import matplotlib.pyplot as plt\n",
    "\n",
    "# Instance of Bernoulli distribution with parameter p = 0.5 representing the probability of success\n",
    "bd = bernoulli(0.5)\n",
    "x = [0, 1] # Outcome of random variable either 0 or 1\n",
    "\n",
    "# visualisation \n",
    "plt.bar(x, bd.pmf(x))\n",
    "\n",
    "# labelling\n",
    "plt.title('Bernoulli distribution (p = 0.5)', fontsize = '10')\n",
    "plt.xlabel('Values of random variable x (0, 1)', fontsize = '10')\n",
    "plt.ylabel('Probability', fontsize = '10')\n",
    "\n",
    "plt.show()"
   ]
  },
  {
   "cell_type": "markdown",
   "id": "44aa97dd",
   "metadata": {},
   "source": [
    "### References:\n",
    "\n",
    "https://www.educative.io/answers/how-to-model-the-bernoulli-distribution-in-python\n",
    "https://www.cuemath.com/data/bernoulli-distribution/\n",
    "https://towardsdatascience.com/plotting-probabilities-for-discrete-and-continuous-random-variables-353c5bb62336"
   ]
  },
  {
   "cell_type": "markdown",
   "id": "7c67bd62",
   "metadata": {},
   "source": [
    "## 2. Geometric Distribution\n",
    "\n",
    "Geometric Distribution is also a discrete distribution. It models the amount of time it takes for an event to occur. In the code below I have modelled 100 fair flips of a coin from which we can see, pretty much half of the time it takes only 1 flip to get a head and the bar chart is correspondingly right skewed. While it is theoretically possible to never obtain a success, or head, it's very unlikely. "
   ]
  },
  {
   "cell_type": "code",
   "execution_count": 4,
   "id": "2e38f184",
   "metadata": {},
   "outputs": [
    {
     "data": {
      "image/png": "[encoded data removed]",
      "text/plain": [
       "<Figure size 432x288 with 1 Axes>"
      ]
     },
     "metadata": {
      "needs_background": "light"
     },
     "output_type": "display_data"
    }
   ],
   "source": [
    "from scipy import stats\n",
    "import pandas as pd\n",
    "\n",
    "heads = stats.geom.rvs(size = 100, p=0.5) #100 flips of a fair coin\n",
    "pd.DataFrame(heads).hist()\n",
    "\n",
    "# labelling \n",
    "plt.title(\"Geometric Distribution (p = 0.5)\", fontsize = '10')\n",
    "plt.xlabel('Number of Coin Flips', fontsize = '10')\n",
    "plt.ylabel('Probability', fontsize = '10')\n",
    "\n",
    "plt.show()"
   ]
  },
  {
   "cell_type": "markdown",
   "id": "e9499cde",
   "metadata": {},
   "source": [
    "## References:\n",
    "https://towardsdatascience.com/deep-diving-statistical-distributions-with-python-for-data-scientists-a0a4badc8d1a"
   ]
  },
  {
   "cell_type": "markdown",
   "id": "1d7e4df8",
   "metadata": {},
   "source": [
    "## 3. Exponential Distribution\n",
    "\n",
    "The exponential distribution is a continuous probability distribution that is used to model the time we must wait until a certain event occurs. Usually a few outcomes are the most likely with a rapid decrease in probability to all other outcomes.\n",
    "\n",
    "Suppose the mean wait time in minutes between buses at a given bus stop is 40 minutes. Looking at the next 100 buses what is the probability that each bus will arrive in less than 50 minutes?  The resulting histogram shows outcomes versus probabilities plotting a familiar exponential probability distribution shape.  It is most likely that the bus will arrive soon after the mean of 40 minutes with a decreasing likelihood the longer the time lapse after the mean, although if you're really unlucky you could still be waiting more than an hour!"
   ]
  },
  {
   "cell_type": "code",
   "execution_count": 5,
   "id": "fe9d2354",
   "metadata": {},
   "outputs": [
    {
     "data": {
      "image/png": "[encoded data removed]",
      "text/plain": [
       "<Figure size 432x288 with 1 Axes>"
      ]
     },
     "metadata": {
      "needs_background": "light"
     },
     "output_type": "display_data"
    }
   ],
   "source": [
    "from scipy.stats import expon\n",
    "import matplotlib.pyplot as plt\n",
    "\n",
    "#generate an exponential distribution with sample size 100\n",
    "x = expon.rvs(scale=40, size=100)\n",
    "\n",
    "#create plot of exponential distribution\n",
    "plt.hist(x)\n",
    "\n",
    "# labelling\n",
    "plt.title('Exponential Distribution', fontsize = '10')\n",
    "plt.xlabel('Outcomes', fontsize = '10')\n",
    "plt.ylabel('Probability', fontsize = '10')\n",
    "\n",
    "plt.show()"
   ]
  },
  {
   "cell_type": "markdown",
   "id": "1f803ffb",
   "metadata": {},
   "source": [
    "## References:\n",
    "https://www.statology.org/exponential-distribution-python/\n",
    "\n",
    "https://machinelearningmastery.com/continuous-probability-distributions-for-machine-learning/"
   ]
  },
  {
   "cell_type": "code",
   "execution_count": null,
   "id": "fdb0064d",
   "metadata": {},
   "outputs": [],
   "source": []
  }
 ],
 "metadata": {
  "kernelspec": {
   "display_name": "Python 3 (ipykernel)",
   "language": "python",
   "name": "python3"
  },
  "language_info": {
   "codemirror_mode": {
    "name": "ipython",
    "version": 3
   },
   "file_extension": ".py",
   "mimetype": "text/x-python",
   "name": "python",
   "nbconvert_exporter": "python",
   "pygments_lexer": "ipython3",
   "version": "3.9.12"
  }
 },
 "nbformat": 4,
 "nbformat_minor": 5
}
