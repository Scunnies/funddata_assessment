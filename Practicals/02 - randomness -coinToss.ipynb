{
 "cells": [
  {
   "cell_type": "markdown",
   "id": "8470b0c9",
   "metadata": {},
   "source": [
    "This weeks task is to look at probability analysis, whether negative integers are possible in probability calculations and why we have probability parity in a coin toss. \n",
    "\n",
    "# Probability and Binomial Distribution\n",
    "\n",
    "Probability, a branch of mathematics, tells us the probability, or possibility, of an event occurring. Its value always lies between 0 and 1 where 0 indicates an impossible event and 1 indicates a certain event. The formula for the probability of an event is:\n",
    "\n",
    "$$ ProbabilityOfAnEvent(Event) = \\frac {(NumberOfFavorableOutcomes)} {(TotalNumberOfPossibleOutcomes)}$$\n",
    "\n",
    "The binomial distribution is a probability distribution used to calculate the likelihood of a yes or no outcome in a survey or experiment replicated numerous times.  This type of forecasting is crucial for estimating all the possible outcomes of data and the frequency with which it might occur. \n",
    "\n",
    "$$ P(N) = {\\binom{n}{N}}p^{N}(1-p)^{n-N} $$\n",
    "\n",
    "where p is the probability, n is the number of trials and N is the number of successes.\n",
    "\n",
    "Python has a useful binomial function in the Scipy library. The following simple code will demonstrate that where success and failure are just as likely, such as a coin toss, the binomial distribution presents as a normal distribution."
   ]
  },
  {
   "cell_type": "code",
   "execution_count": 1,
   "id": "b05f1d53",
   "metadata": {},
   "outputs": [
    {
     "data": {
      "image/png": "[encoded data removed]",
      "text/plain": [
       "<Figure size 432x288 with 1 Axes>"
      ]
     },
     "metadata": {
      "needs_background": "light"
     },
     "output_type": "display_data"
    }
   ],
   "source": [
    "from scipy.stats import binom\n",
    "import matplotlib.pyplot as plt\n",
    "# setting the values\n",
    "# of n and p\n",
    "n = 10 # number of coin tosses\n",
    "p = 0.5 # probability of getting heads\n",
    "# defining list of r values, r being the success rate\n",
    "r_values = list(range(n + 1))\n",
    "# list of probability mass function values\n",
    "dist = [binom.pmf(r, n, p) for r in r_values]\n",
    "# plotting the graph\n",
    "plt.bar(r_values, dist)\n",
    "plt.title(\"Binomial Distribution n = 10 p = 0.5\")\n",
    "plt.xlabel(\"Number of Successes\")\n",
    "plt.ylabel(\"Probability\")\n",
    "plt.show()\n"
   ]
  },
  {
   "cell_type": "code",
   "execution_count": null,
   "id": "7f577892",
   "metadata": {},
   "outputs": [],
   "source": []
  },
  {
   "cell_type": "markdown",
   "id": "ac9f6dd0",
   "metadata": {},
   "source": [
    "Using numpy flip ten coins, tracking each time it gets four heads"
   ]
  },
  {
   "cell_type": "code",
   "execution_count": 2,
   "id": "45117b9e",
   "metadata": {},
   "outputs": [
    {
     "name": "stdout",
     "output_type": "stream",
     "text": [
      "[1 1 0 0 1 0 0 1 0 0]\n",
      "[0 0 1 0 0 0 1 1 0 1]\n",
      "[0 1 0 0 1 1 0 0 1 0]\n",
      "[0 0 1 0 1 0 1 1 0 0]\n",
      "Total generated: 34\n"
     ]
    }
   ],
   "source": [
    "import numpy as np\n",
    "\n",
    "# Keep flipping coins until we get four examples of getting four heads in ten coin tosses.\n",
    "\n",
    "# Number of examples.\n",
    "N = 4\n",
    "\n",
    "# Keep track of number of arrays generated.\n",
    "total_no = 0\n",
    "\n",
    "# Keep trying until we get four examples.\n",
    "while N > 0:\n",
    "    # Add 1 to total.\n",
    "    total_no = total_no + 1\n",
    "    # Toss 10 coins.\n",
    "    tosses = np.random.binomial(1, 0.5, 10)\n",
    "    # Check if we got four heads.\n",
    "    if tosses.sum() == 4:\n",
    "        # If we got 4 heads, print the list of heads/tails.\n",
    "        print(tosses)\n",
    "        # Reduce the number of examples left to find by 1.\n",
    "        N = N - 1\n",
    "\n",
    "print(f'Total generated: {total_no}')"
   ]
  },
  {
   "cell_type": "markdown",
   "id": "63e7de35",
   "metadata": {},
   "source": [
    "If we were to flip a coin ten times such that four out of the ten flips were heads and we wanted to calculate the number of possibilities this presented, the calculation would be:"
   ]
  },
  {
   "cell_type": "code",
   "execution_count": 3,
   "id": "dd7cbabc",
   "metadata": {},
   "outputs": [
    {
     "data": {
      "text/plain": [
       "210"
      ]
     },
     "execution_count": 3,
     "metadata": {},
     "output_type": "execute_result"
    }
   ],
   "source": [
    "(10 * 9 * 8 * 7) // (4 * 3 * 2 * 1)"
   ]
  },
  {
   "cell_type": "markdown",
   "id": "b4e20a72",
   "metadata": {},
   "source": [
    "This gives us 210 possibilities.  But could the result ever be a negative or a fraction?"
   ]
  },
  {
   "cell_type": "markdown",
   "id": "402757ca",
   "metadata": {},
   "source": [
    "## Negative Probabilities\n",
    "\n",
    "As all of the values used in this particular scenario are positive integers, we will not get a negative or fractional result. In fact, in experimental probability it is assumed that none of the values used can or will be negative so there is no way for the result to be negative.  \n",
    "\n",
    "Having said that, negative probabilities do theoretically exist.  Quantum mechanics appears to have shouldered Douglas Adams and \"42\" out of the way as the answer to life, the universe and everything but is slightly less accessible.  One school of thought, posited at differing times by physicists Paul Dirac and later Richard Feynman, argues for the use of negative probabilities to describe certain physical phenomena. Finding workable examples is difficult as negative probabilities deal chiefly with properties that cannot be observed, only hypothesised, but the concept centres around the idea of cancellation.  While the classic interpretation of probabilities deals with events that *have* occurred (or are at least possible/observable), negative probability events can (apparently!) be 'cancelled'.  \n",
    "\n",
    "Another example in the field of quantum physics is the Wigner distribution in phase space, introduced by Eugene Wigner in 1932 to study quantum corrections, which often leads to negative probabilities.  The Wigner distribution function is routinely used in physics nowadays in phase-space quantization. Its negative features often indicate quantum interference. \n",
    "\n",
    "Furthermore, in 2005, Gábor J. Székely, introduced half-coins, which provide simple examples for negative probabilities.  Half-coins have infinitely many sides numbered and the positive even numbers are taken with negative probabilities.\n"
   ]
  },
  {
   "cell_type": "markdown",
   "id": "b7ec6996",
   "metadata": {},
   "source": [
    "### Note that there are the same number of ways to get 4 tails as there to get 4 heads. Explain why this is\n",
    "\n",
    "All things be equal, literally, the assumption is that heads and tails are evenly weighted and the probability is 50/50, AND that there is nothing else of note that would affect this probability such as bias or a weighted coin.  A sequence of independent Bernoulli trials with probability 1/2 of success on each trial is metaphorically called a fair coin. One for which the probability is not 1/2 is called a biased or unfair coin. \n",
    "\n",
    "In the [code](https://towardsdatascience.com/probability-in-a-weighted-coin-flip-game-using-python-and-numpy-bc1686c49a35) below two players are playing a game where they flip a not necessarily fair coin, starting with Player 1. The first person to flip heads wins. The probability that a coin flipped lands on heads is p.  We are looking to find what the probability is that Player 1 will win. "
   ]
  },
  {
   "cell_type": "code",
   "execution_count": 4,
   "id": "43211e59",
   "metadata": {},
   "outputs": [
    {
     "data": {
      "text/plain": [
       "0.667646"
      ]
     },
     "execution_count": 4,
     "metadata": {},
     "output_type": "execute_result"
    }
   ],
   "source": [
    "\n",
    "def P1_wins(num_games, prob_heads = 0.5): # define the function with two arguments\n",
    "  player_one_wins = 0 \n",
    "\n",
    "  for n in range(0, num_games): # counter for the number of games won by Player 1\n",
    "    num_flips = 0 \n",
    "    win = 0 # players continue while win = 0\n",
    "    while win == 0: \n",
    "      turn = np.random.uniform(0,1) \n",
    "      num_flips += 1 \n",
    "      if turn <= prob_heads: \n",
    "        if num_flips % 2 != 0: #counting turns taken\n",
    "          player_one_wins += 1 \n",
    "        win += 1 \n",
    "  return float(player_one_wins)/float(num_games) # games won by player 1 divided by the total number of games played\n",
    "P1_wins (500000)"
   ]
  },
  {
   "cell_type": "markdown",
   "id": "11d78494",
   "metadata": {},
   "source": [
    "When we run the function for 50,000 games we see that Player 1 wins approximately 66% of the time.  This is because they have the advantage of going first and when they flip a head (or for the purposes of our code, a 1) they win and the game is over/re-starts.  Player 2 has lost before they even touch the coin!  To make this scenario more equitable we would have to adjust the probability from 0.5 to <0.1 for our output to come close to a 50/50 chance of success for both player 1 and 2. "
   ]
  },
  {
   "cell_type": "markdown",
   "id": "491f83cc",
   "metadata": {},
   "source": [
    "### References:\n",
    "Background reading https://towardsdatascience.com/how-to-code-a-fair-coin-flip-in-python-d54312f33da9\n",
    "\n",
    "Useful explanatory with formulas https://www.geeksforgeeks.org/coin-toss-probability-formula/#:~:text=For%20each%20coin%20toss%2C%20there,of%20possible%20outcomes%20are%20obtained.&text=So%2C%20there%20is%2012.5%25%20chances,when%203%20coins%20are%20tossed\n",
    "\n",
    "Binomial Distribution worked example with plot https://www.geeksforgeeks.org/python-binomial-distribution/\n",
    "\n",
    "Negative probabilities, Durac, Feynman and Quantum Mechanics https://stats.stackexchange.com/questions/333610/negative-probabilities-layman-explanations\n",
    "\n",
    "Negative probability, Wikipedia, Gabor J. Szekely https://en.wikipedia.org/wiki/Negative_probability\n",
    "\n",
    "Looking at the idea of a loaded or biased coin https://en.wikipedia.org/wiki/Fair_coin\n",
    "\n",
    "Some coding for a weighted coin toss https://towardsdatascience.com/probability-in-a-weighted-coin-flip-game-using-python-and-numpy-bc1686c49a35"
   ]
  },
  {
   "cell_type": "code",
   "execution_count": null,
   "id": "dfd6d524",
   "metadata": {},
   "outputs": [],
   "source": []
  },
  {
   "cell_type": "code",
   "execution_count": null,
   "id": "420ca8dd",
   "metadata": {},
   "outputs": [],
   "source": []
  }
 ],
 "metadata": {
  "kernelspec": {
   "display_name": "Python 3 (ipykernel)",
   "language": "python",
   "name": "python3"
  },
  "language_info": {
   "codemirror_mode": {
    "name": "ipython",
    "version": 3
   },
   "file_extension": ".py",
   "mimetype": "text/x-python",
   "name": "python",
   "nbconvert_exporter": "python",
   "pygments_lexer": "ipython3",
   "version": "3.9.12"
  }
 },
 "nbformat": 4,
 "nbformat_minor": 5
}
