{
 "cells": [
  {
   "cell_type": "markdown",
   "id": "507ce82b",
   "metadata": {},
   "source": [
    "# Topic 01 - Information - Log Zero\n",
    "\n",
    "## The task this week is to explain why the log of zero is undefined"
   ]
  },
  {
   "cell_type": "markdown",
   "id": "24e8a217",
   "metadata": {},
   "source": [
    "Logarithms, or logs,  are simply another way to write exponents. Exponents and logs are inverses of each other. \n",
    "\n",
    "A log is the exponent or power to which a base must be raised to yield a given number. Expressed mathematically, x is the logarithm of n to the base b if $b^{x} = n$.  \n",
    "\n",
    "A simple example is $5^{2} = 25$; therefore, 2 is the logarithm of 25 to base 5, or 2 = log$_{5}  25$"
   ]
  },
  {
   "cell_type": "code",
   "execution_count": 56,
   "id": "00e2e5ca",
   "metadata": {},
   "outputs": [
    {
     "name": "stdout",
     "output_type": "stream",
     "text": [
      "2.0\n"
     ]
    }
   ],
   "source": [
    "# the Python code for this example \n",
    "import math \n",
    "\n",
    "print(math.log(25, 5))"
   ]
  },
  {
   "cell_type": "markdown",
   "id": "cf71e265",
   "metadata": {},
   "source": [
    "If we try to log zero"
   ]
  },
  {
   "cell_type": "code",
   "execution_count": 58,
   "id": "62107efa",
   "metadata": {},
   "outputs": [
    {
     "ename": "ValueError",
     "evalue": "math domain error",
     "output_type": "error",
     "traceback": [
      "\u001b[1;31m---------------------------------------------------------------------------\u001b[0m",
      "\u001b[1;31mValueError\u001b[0m                                Traceback (most recent call last)",
      "Input \u001b[1;32mIn [58]\u001b[0m, in \u001b[0;36m<cell line: 1>\u001b[1;34m()\u001b[0m\n\u001b[1;32m----> 1\u001b[0m \u001b[38;5;28mprint\u001b[39m(\u001b[43mmath\u001b[49m\u001b[38;5;241;43m.\u001b[39;49m\u001b[43mlog\u001b[49m\u001b[43m(\u001b[49m\u001b[38;5;241;43m0\u001b[39;49m\u001b[43m,\u001b[49m\u001b[43m \u001b[49m\u001b[38;5;241;43m0\u001b[39;49m\u001b[43m)\u001b[49m)\n",
      "\u001b[1;31mValueError\u001b[0m: math domain error"
     ]
    }
   ],
   "source": [
    "print(math.log(0, 0))"
   ]
  },
  {
   "cell_type": "markdown",
   "id": "356b0f44",
   "metadata": {},
   "source": [
    "The log of zero is not a real number.  You can never achieve zero by raising anything to the power of anything else and this is the reason why log(0) is undefined. In mathematics terminology, 'undefined' means a term that is mathematically inexpressible, or without meaning. For example, anything divided by zero is considered undefined by the rules of mathematics. In terms of logging (0), while you may be able to get _close_ to zero, using an infinitely large and negative power, you can never reach zero itself.  So in our code above, Python's log function raises an exception and returns `ValueError: math domain error`.  "
   ]
  },
  {
   "cell_type": "code",
   "execution_count": null,
   "id": "d15da765",
   "metadata": {},
   "outputs": [],
   "source": []
  },
  {
   "cell_type": "markdown",
   "id": "352630da",
   "metadata": {},
   "source": [
    "### References:\n",
    "\n",
    "Dummies: Logarithm Basics https://www.dummies.com/article/academics-the-arts/math/pre-calculus/logarithm-basics-188681/\n",
    "\n",
    "Brittanica - Logarithm https://www.britannica.com/science/logarithm\n",
    "\n",
    "Logarithmic Rules http://www.mclph.umn.edu/mathrefresh/logs3.html#:~:text=2.-,log%200%20is%20undefined.,3.\n",
    "\n",
    "Why is the proof of log(0) undefined https://www.quora.com/What-is-the-proof-of-log-0-undefined\n",
    "\n",
    "Undefined Expressions and Numbers https://study.com/learn/lesson/undefined-expressions-numbers-math-function.html\n",
    "\n",
    "Logarithm of Zero in Python https://stackoverflow.com/questions/42980201/logarithm-of-zero-in-python\n",
    "    "
   ]
  }
 ],
 "metadata": {
  "kernelspec": {
   "display_name": "Python 3 (ipykernel)",
   "language": "python",
   "name": "python3"
  },
  "language_info": {
   "codemirror_mode": {
    "name": "ipython",
    "version": 3
   },
   "file_extension": ".py",
   "mimetype": "text/x-python",
   "name": "python",
   "nbconvert_exporter": "python",
   "pygments_lexer": "ipython3",
   "version": "3.9.12"
  }
 },
 "nbformat": 4,
 "nbformat_minor": 5
}
