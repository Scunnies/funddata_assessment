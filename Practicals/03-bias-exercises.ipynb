{
 "cells": [
  {
   "cell_type": "markdown",
   "id": "b4a195a7",
   "metadata": {},
   "source": [
    "# Topic 3 - Bias\n",
    "\n",
    "## Exercise\n",
    "\n",
    "Take the sample arrays from Ian's notebook and show their standard deviations."
   ]
  },
  {
   "cell_type": "code",
   "execution_count": null,
   "id": "a7583d6f",
   "metadata": {},
   "outputs": [],
   "source": [
    "# Array #1\n",
    "# A list of numbers - four small and one big.\n",
    "numbers1 = np.array([1, 1, 1, 1, 10])\n",
    "\n",
    "# Their mean.\n",
    "np.mean(numbers1)"
   ]
  },
  {
   "cell_type": "code",
   "execution_count": null,
   "id": "02886c70",
   "metadata": {},
   "outputs": [],
   "source": []
  },
  {
   "cell_type": "code",
   "execution_count": null,
   "id": "4a415c70",
   "metadata": {},
   "outputs": [],
   "source": [
    "# A list of numbers - all close to each other.\n",
    "numbers2 = np.array([2, 2, 3, 3, 4])\n",
    "\n",
    "# Their mean.\n",
    "np.mean(numbers2)"
   ]
  },
  {
   "cell_type": "code",
   "execution_count": null,
   "id": "fd42f009",
   "metadata": {},
   "outputs": [],
   "source": [
    "np.sqrt(np.mean(np.square(x - np.mean(x))))"
   ]
  }
 ],
 "metadata": {
  "kernelspec": {
   "display_name": "Python 3 (ipykernel)",
   "language": "python",
   "name": "python3"
  },
  "language_info": {
   "codemirror_mode": {
    "name": "ipython",
    "version": 3
   },
   "file_extension": ".py",
   "mimetype": "text/x-python",
   "name": "python",
   "nbconvert_exporter": "python",
   "pygments_lexer": "ipython3",
   "version": "3.9.12"
  }
 },
 "nbformat": 4,
 "nbformat_minor": 5
}
