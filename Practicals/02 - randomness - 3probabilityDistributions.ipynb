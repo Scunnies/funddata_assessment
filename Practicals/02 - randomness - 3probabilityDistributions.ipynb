{
 "cells": [
  {
   "cell_type": "markdown",
   "id": "781ea3e2",
   "metadata": {},
   "source": [
    "This week's task is to plot bar charts or histograms of any three different distributions listed at the following link:\n",
    "\n",
    "https://numpy.org/doc/stable/reference/random/generator.html#distributions"
   ]
  },
  {
   "cell_type": "markdown",
   "id": "464d07ba",
   "metadata": {},
   "source": [
    "## 1. Bernoulli Distribution\n",
    "\n",
    "Bernoulli distribution is a discrete distribution which is used when we want to model the outcome of a single trial of an event and a random experiment that can only have an outcome of either 1 or 0 is known as a Bernoulli trial. If we want to model the outcome of multiple trials of an event, Binomial distribution is used. The code below shows the likely outcome from a single coin flip which we know has a 50/50 chance of success."
   ]
  },
  {
   "cell_type": "code",
   "execution_count": 1,
   "id": "f795586e",
   "metadata": {},
   "outputs": [
    {
     "data": {
      "image/png": "[encoded data removed]",
      "text/plain": [
       "<Figure size 432x288 with 1 Axes>"
      ]
     },
     "metadata": {
      "needs_background": "light"
     },
     "output_type": "display_data"
    }
   ],
   "source": [
    "# Import the required libraries\n",
    "\n",
    "from scipy.stats import bernoulli\n",
    "import matplotlib.pyplot as plt\n",
    "\n",
    "# Instance of Bernoulli distribution with parameter p = 0.5 representing the probability of success\n",
    "bd = bernoulli(0.5)\n",
    "x = [0, 1] # Outcome of random variable either 0 or 1\n",
    "\n",
    "# visualisation \n",
    "plt.bar(x, bd.pmf(x))\n",
    "\n",
    "# labelling\n",
    "plt.title('Bernoulli distribution (p = 0.5)', fontsize = '10')\n",
    "plt.xlabel('Values of random variable x (0, 1)', fontsize = '10')\n",
    "plt.ylabel('Probability', fontsize = '10')\n",
    "\n",
    "plt.show()"
   ]
  },
  {
   "cell_type": "markdown",
   "id": "44aa97dd",
   "metadata": {},
   "source": [
    "### References:\n",
    "\n",
    "https://www.educative.io/answers/how-to-model-the-bernoulli-distribution-in-python\n",
    "https://www.cuemath.com/data/bernoulli-distribution/\n",
    "https://towardsdatascience.com/plotting-probabilities-for-discrete-and-continuous-random-variables-353c5bb62336"
   ]
  },
  {
   "cell_type": "markdown",
   "id": "7c67bd62",
   "metadata": {},
   "source": [
    "## 2. Geometric Distribution\n",
    "\n",
    "Geometric Distribution is also a discrete distribution. It models the amount of time it takes for an event to occur. In the code below I have modelled 100 fair flips of a coin from which we can see, pretty much half of the time it takes only 1 flip to get a head and the bar chart is correspondingly right skewed. While it is theoretically possible to never obtain a success, or head, it's very unlikely. "
   ]
  },
  {
   "cell_type": "code",
   "execution_count": 2,
   "id": "2e38f184",
   "metadata": {},
   "outputs": [
    {
     "data": {
      "image/png": "[encoded data removed]",
      "text/plain": [
       "<Figure size 432x288 with 1 Axes>"
      ]
     },
     "metadata": {
      "needs_background": "light"
     },
     "output_type": "display_data"
    }
   ],
   "source": [
    "from scipy import stats\n",
    "import pandas as pd\n",
    "\n",
    "heads = stats.geom.rvs(size = 100, p=0.5) #100 flips of a fair coin\n",
    "pd.DataFrame(heads).hist()\n",
    "\n",
    "# labelling \n",
    "plt.title(\"Geometric Distribution (p = 0.5)\", fontsize = '10')\n",
    "plt.xlabel('Number of Coin Flips', fontsize = '10')\n",
    "plt.ylabel('Probability', fontsize = '10')\n",
    "\n",
    "plt.show()"
   ]
  },
  {
   "cell_type": "markdown",
   "id": "e9499cde",
   "metadata": {},
   "source": [
    "## References:\n",
    "https://towardsdatascience.com/deep-diving-statistical-distributions-with-python-for-data-scientists-a0a4badc8d1a"
   ]
  },
  {
   "cell_type": "markdown",
   "id": "1d7e4df8",
   "metadata": {},
   "source": [
    "## 3. Exponential Distribution\n",
    "\n",
    "The exponential distribution is a continuous probability distribution that is used to model the time we must wait until a certain event occurs. Usually a few outcomes are the most likely with a rapid decrease in probability to all other outcomes.\n",
    "\n",
    "Suppose the mean wait time in minutes between buses at a given bus stop is 40 minutes. Looking at the next 100 buses what is the probability that each bus will arrive in less than 50 minutes?  The resulting histogram shows outcomes versus probabilities plotting a familiar exponential probability distribution shape.  It is most likely that the bus will arrive soon after the mean of 40 minutes with a decreasing likelihood the longer the time lapse after the mean, although if you're really unlucky you could still be waiting more than an hour!"
   ]
  },
  {
   "cell_type": "code",
   "execution_count": 3,
   "id": "fe9d2354",
   "metadata": {},
   "outputs": [
    {
     "data": {
      "image/png": "[encoded data removed]",
      "text/plain": [
       "<Figure size 432x288 with 1 Axes>"
      ]
     },
     "metadata": {
      "needs_background": "light"
     },
     "output_type": "display_data"
    }
   ],
   "source": [
    "from scipy.stats import expon\n",
    "import matplotlib.pyplot as plt\n",
    "\n",
    "#generate an exponential distribution with sample size 100\n",
    "x = expon.rvs(scale=40, size=100)\n",
    "\n",
    "#create plot of exponential distribution\n",
    "plt.hist(x)\n",
    "\n",
    "# labelling\n",
    "plt.title('Exponential Distribution', fontsize = '10')\n",
    "plt.xlabel('Outcomes', fontsize = '10')\n",
    "plt.ylabel('Probability', fontsize = '10')\n",
    "\n",
    "plt.show()"
   ]
  },
  {
   "cell_type": "markdown",
   "id": "1f803ffb",
   "metadata": {},
   "source": [
    "## References:\n",
    "https://www.statology.org/exponential-distribution-python/\n",
    "\n",
    "https://machinelearningmastery.com/continuous-probability-distributions-for-machine-learning/"
   ]
  },
  {
   "cell_type": "code",
   "execution_count": null,
   "id": "fdb0064d",
   "metadata": {},
   "outputs": [],
   "source": []
  }
 ],
 "metadata": {
  "kernelspec": {
   "display_name": "Python 3 (ipykernel)",
   "language": "python",
   "name": "python3"
  },
  "language_info": {
   "codemirror_mode": {
    "name": "ipython",
    "version": 3
   },
   "file_extension": ".py",
   "mimetype": "text/x-python",
   "name": "python",
   "nbconvert_exporter": "python",
   "pygments_lexer": "ipython3",
   "version": "3.9.12"
  }
 },
 "nbformat": 4,
 "nbformat_minor": 5
}
